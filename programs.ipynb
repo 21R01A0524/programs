{
 "cells": [
  {
   "cell_type": "markdown",
   "id": "2c432360-67c5-471c-a232-156130014386",
   "metadata": {},
   "source": [
    "#problems\n",
    "- 1.reverse a list without using method and functions\n",
    "- find second largest number in the list\n",
    "- find second min element in the list\n",
    "- "
   ]
  },
  {
   "cell_type": "code",
   "execution_count": 4,
   "id": "7330ecc3-334f-45c0-bbdb-ecd98b152d04",
   "metadata": {},
   "outputs": [
    {
     "name": "stdin",
     "output_type": "stream",
     "text": [
      " 1 2 5 3 4 6\n"
     ]
    },
    {
     "name": "stdout",
     "output_type": "stream",
     "text": [
      "[6, 4, 3, 5, 2, 1]\n"
     ]
    }
   ],
   "source": [
    "#reverse of a list\n",
    "l=list(map(int,input().split()))\n",
    "print(l[::-1])"
   ]
  },
  {
   "cell_type": "code",
   "execution_count": 6,
   "id": "2883c81d-8691-4467-8422-c8f95cb3a178",
   "metadata": {},
   "outputs": [
    {
     "name": "stdin",
     "output_type": "stream",
     "text": [
      " 5 2 6 3 4 8 9\n"
     ]
    },
    {
     "name": "stdout",
     "output_type": "stream",
     "text": [
      "Reversed list: [9, 8, 4, 3, 6, 2, 5]\n"
     ]
    }
   ],
   "source": [
    "original = list(map(int,input().split()))\n",
    "reversed_list = []\n",
    "for i in range(len(original)-1, -1, -1):\n",
    "    reversed_list.append(original[i])\n",
    "print(\"Reversed list:\", reversed_list)\n"
   ]
  },
  {
   "cell_type": "code",
   "execution_count": 1,
   "id": "94feb97d-9730-417b-871c-5512659d7933",
   "metadata": {},
   "outputs": [
    {
     "name": "stdin",
     "output_type": "stream",
     "text": [
      " 55 55 44 66 22 77 66 4 55\n"
     ]
    },
    {
     "name": "stdout",
     "output_type": "stream",
     "text": [
      "Second largest number: 66\n"
     ]
    }
   ],
   "source": [
    "#without using function\n",
    "numbers=list(map(int,input().split()))\n",
    "unique_numbers = list(set(numbers))  # remove duplicates\n",
    "unique_numbers.sort()\n",
    "second_largest = unique_numbers[-2]\n",
    "print(\"Second largest number:\", second_largest)\n"
   ]
  },
  {
   "cell_type": "code",
   "execution_count": 2,
   "id": "a202ff27-feb2-400e-a7b6-dd71636c846c",
   "metadata": {},
   "outputs": [
    {
     "name": "stdin",
     "output_type": "stream",
     "text": [
      "  55 55 44 66 22 77 66 4 55\n"
     ]
    },
    {
     "name": "stdout",
     "output_type": "stream",
     "text": [
      "Second largest number: 66\n"
     ]
    }
   ],
   "source": [
    "#using function\n",
    "def find_second_largest(lst):\n",
    "    unique_lst = list(set(lst))\n",
    "    unique_lst.sort()\n",
    "    return unique_lst[-2]\n",
    "\n",
    "nums = list(map(int,input().split()))\n",
    "print(\"Second largest number:\", find_second_largest(nums))\n"
   ]
  },
  {
   "cell_type": "code",
   "execution_count": 3,
   "id": "ce69afca-6abf-4405-935c-c5e0cbb3da74",
   "metadata": {},
   "outputs": [
    {
     "name": "stdin",
     "output_type": "stream",
     "text": [
      "   55 55 44 66 22 77 66 4 55\n"
     ]
    },
    {
     "name": "stdout",
     "output_type": "stream",
     "text": [
      "Second smallest number: 22\n"
     ]
    }
   ],
   "source": [
    "#without function\n",
    "numbers = list(map(int,input().split()))\n",
    "\n",
    "unique_numbers = list(set(numbers))  # remove duplicates\n",
    "unique_numbers.sort()\n",
    "\n",
    "second_smallest = unique_numbers[1]\n",
    "print(\"Second smallest number:\", second_smallest)\n"
   ]
  },
  {
   "cell_type": "code",
   "execution_count": 5,
   "id": "a9bd6ddc-9a80-4897-bedd-6f387cb06348",
   "metadata": {},
   "outputs": [
    {
     "name": "stdin",
     "output_type": "stream",
     "text": [
      "    55 55 44 66 22 77 66 4 55\n"
     ]
    },
    {
     "name": "stdout",
     "output_type": "stream",
     "text": [
      "Second smallest number: 22\n"
     ]
    }
   ],
   "source": [
    "#using function\n",
    "def find_second_smallest(lst):\n",
    "    unique_lst = list(set(lst))\n",
    "    unique_lst.sort()\n",
    "    return unique_lst[1]\n",
    "\n",
    "nums =list(map(int,input().split()))\n",
    "print(\"Second smallest number:\", find_second_smallest(nums))\n"
   ]
  },
  {
   "cell_type": "code",
   "execution_count": null,
   "id": "1bd0707c-c34b-48ab-b10a-8ab323d4c218",
   "metadata": {},
   "outputs": [],
   "source": []
  }
 ],
 "metadata": {
  "kernelspec": {
   "display_name": "Python 3 (ipykernel)",
   "language": "python",
   "name": "python3"
  },
  "language_info": {
   "codemirror_mode": {
    "name": "ipython",
    "version": 3
   },
   "file_extension": ".py",
   "mimetype": "text/x-python",
   "name": "python",
   "nbconvert_exporter": "python",
   "pygments_lexer": "ipython3",
   "version": "3.12.0"
  }
 },
 "nbformat": 4,
 "nbformat_minor": 5
}
